{
  "nbformat": 4,
  "nbformat_minor": 0,
  "metadata": {
    "colab": {
      "provenance": [],
      "name": "taller 2",
      "authorship_tag": "ABX9TyOovIvctvwZIVWwjjmp9fjE",
      "include_colab_link": true
    },
    "kernelspec": {
      "name": "python3",
      "display_name": "Python 3"
    },
    "language_info": {
      "name": "python"
    }
  },
  "cells": [
    {
      "cell_type": "markdown",
      "metadata": {
        "id": "view-in-github",
        "colab_type": "text"
      },
      "source": [
        "<a href=\"https://colab.research.google.com/github/Juanm3005/trabajo-grupo-aplicadas/blob/main/taller_2.ipynb\" target=\"_parent\"><img src=\"https://colab.research.google.com/assets/colab-badge.svg\" alt=\"Open In Colab\"/></a>"
      ]
    },
    {
      "cell_type": "code",
      "execution_count": null,
      "metadata": {
        "id": "deYxUalzGZDc",
        "colab": {
          "base_uri": "https://localhost:8080/"
        },
        "outputId": "db14c075-d13a-4b63-a8b3-ebbb8c452146"
      },
      "outputs": [
        {
          "output_type": "stream",
          "name": "stdout",
          "text": [
            "Ingrese la cantidad de alimentos que ingirió: 5\n",
            "Ingrese el nombre del alimento: arroz\n",
            "Ingrese la cantidad de calorías del alimento: 30\n",
            "Ingrese el nombre del alimento: papa\n",
            "Ingrese la cantidad de calorías del alimento: 20\n",
            "Ingrese el nombre del alimento: azucar\n",
            "Ingrese la cantidad de calorías del alimento: 100\n",
            "Ingrese el nombre del alimento: galleta\n",
            "Ingrese la cantidad de calorías del alimento: 300\n",
            "Ingrese el nombre del alimento: pollo\n",
            "Ingrese la cantidad de calorías del alimento: 600\n",
            "Usted ingirió 1050 calorías.\n",
            "No se superaron las calorías recomendadas diarias.\n"
          ]
        }
      ],
      "source": [
        "#8 Cálculo de calorías consumidas: Crea una función que reciba una lista de alimentos consumidos y una lista de calorías correspondientes a cada alimento. La función debe calcular el total de calorías consumidas y devolver un mensaje si se superan las 2000 calorías diarias recomendadas.\n",
        "def calcular_calorias(cantidad):\n",
        "    alimentos = []\n",
        "    calorias = []\n",
        "    calorias_total = 0\n",
        "\n",
        "    for i in range(cantidad):\n",
        "        alimento = input(\"Ingrese el nombre del alimento: \")\n",
        "        print()\n",
        "        calorias_alimento = int(input(\"Ingrese la cantidad de calorías del alimento: \"))\n",
        "\n",
        "        alimentos.append(alimento)\n",
        "        calorias.append(calorias_alimento)\n",
        "        calorias_total += calorias_alimento\n",
        "\n",
        "    print(f\"Usted ingirió {calorias_total} calorías.\")\n",
        "\n",
        "    if calorias_total > 2000:\n",
        "        print(\"Se superó las calorías recomendadas diarias.\")\n",
        "    else:\n",
        "        print(\"No se superaron las calorías recomendadas diarias.\")\n",
        "\n",
        "# Solicitar la cantidad de alimentos\n",
        "cantidad = int(input(\"Ingrese la cantidad de alimentos que ingirió: \"))\n",
        "calcular_calorias(cantidad)2\n"
      ]
    },
    {
      "cell_type": "code",
      "source": [
        "#9. Promedio de ventas mensuales: Escribe una función que reciba una lista de ventas mensuales (12 valores) y calcule el promedio de ventas. Además, debe indicar cuántos meses estuvieron por encima del promedio.\n",
        "\n",
        "def promedio_ventas(ventas):\n",
        "  total_ventas = 0\n",
        "  for i in range(12):\n",
        "\n",
        "    total_ventas = ventas[i] + total_ventas\n",
        "  promedio_ventas= total_ventas/12\n",
        "  for i in range(12):\n",
        "    if ventas[i]>promedio_ventas:\n",
        "      print(f\"el mes {i+1} supero el promedio de ventas mensuales por {ventas[i]-promedio_ventas}$ con un total de {ventas[i]}\")\n",
        "      print(\" \")\n",
        "    else:\n",
        "      print(f\"las ventas del mes {i+1} fueron de {ventas[i]}\")\n",
        "      print(\" \")\n",
        "\n",
        "ventas_mensuales = [0]*12\n",
        "for i in range(12):\n",
        "  ventas_mensuales[i] = int(input(f\"ingrese el valor de las ventas del mes {i+1} \"))\n",
        "\n",
        "promedio_ventas(ventas_mensuales)"
      ],
      "metadata": {
        "id": "z5O4Jce-MJ6_"
      },
      "execution_count": null,
      "outputs": []
    },
    {
      "cell_type": "code",
      "source": [
        "#10. Sistema de descuentos en una tienda: Crea una función que reciba el total de una compra y aplique un descuento según el monto: • 5% si el total está entre 50 y 100. • 10% si el total es mayor a 100 y menor a 200. • 15% si el total es mayor o igual a $200. La función debe devolver el total con el descuento aplicado.\n",
        "\n",
        "def descuentos(total):\n",
        "  if 50< total <100:\n",
        "    descuento = total * 0.05\n",
        "    newtotal = total- descuento\n",
        "    print(f\"usted obtuvo un 5% de descuento y la compra le queda en: {newtotal} \")\n",
        "  elif 100<= total < 200:\n",
        "    descuento = total * 0.1\n",
        "    newtotal = total- descuento\n",
        "    print(f\"usted obtuvo un 10% de descuento y la compra le queda en: {newtotal}\")\n",
        "  elif total >= 200:\n",
        "    descuento = total * 0.15\n",
        "    newtotal = total- descuento\n",
        "    print(f\"usted obtuvo un 15% de descuento y la compra le queda en: {newtotal}\")\n",
        "\n",
        "total_compra = float(input(\"ingrese el total de su compra: \"))\n",
        "descuentos(total_compra)"
      ],
      "metadata": {
        "id": "0-wiFhq7cM5s"
      },
      "execution_count": null,
      "outputs": []
    },
    {
      "cell_type": "code",
      "source": [
        "import numpy as np"
      ],
      "metadata": {
        "id": "e5awHuHEZhfq"
      },
      "execution_count": null,
      "outputs": []
    },
    {
      "cell_type": "code",
      "source": [
        "\n",
        "\n",
        "# 11. Registro de pacientes\n",
        "def registro_pacientes():\n",
        "    n = int(input(\"Ingrese la cantidad de pacientes: \"))\n",
        "    nombres = []\n",
        "    edades = []\n",
        "    for _ in range(n):\n",
        "        nombre = input(\"Nombre del paciente: \")\n",
        "        edad = int(input(\"Edad del paciente: \"))\n",
        "        nombres.append(nombre)\n",
        "        edades.append(edad)\n",
        "    pacientes_prioritarios = [nombres[i] for i in range(len(edades)) if edades[i] > 60]\n",
        "    return pacientes_prioritarios\n",
        "\n",
        "print(\"Pacientes con atención prioritaria:\", registro_pacientes())"
      ],
      "metadata": {
        "id": "KBmzPBBKUIfI",
        "outputId": "23503d5e-f0d6-4394-8377-865e898fb598",
        "colab": {
          "base_uri": "https://localhost:8080/"
        }
      },
      "execution_count": null,
      "outputs": [
        {
          "output_type": "stream",
          "name": "stdout",
          "text": [
            "Ingrese la cantidad de pacientes: 1\n",
            "Nombre del paciente: a\n",
            "Edad del paciente: 67\n",
            "Pacientes con atención prioritaria: ['a']\n"
          ]
        }
      ]
    },
    {
      "cell_type": "code",
      "source": [
        "# 12. Cálculo de gastos mensuales\n",
        "def calculo_gastos_mensuales():\n",
        "    n = int(input(\"Ingrese la cantidad de categorías de gasto: \"))\n",
        "    gastos = []\n",
        "    categorias = []\n",
        "    for _ in range(n):\n",
        "        categoria = input(\"Nombre de la categoría: \")\n",
        "        gasto = float(input(f\"Ingrese el gasto en {categoria}: \"))\n",
        "        categorias.append(categoria)\n",
        "        gastos.append(gasto)\n",
        "    total = np.sum(gastos)\n",
        "    max_gasto = np.max(gastos)\n",
        "    categoria_max = categorias[np.argmax(gastos)]\n",
        "    return total, categoria_max, max_gasto\n",
        "total, cat_max, max_gasto = calculo_gastos_mensuales()\n",
        "print(f\"Total de gastos: {total}, Mayor gasto en: {cat_max} ({max_gasto})\")\n",
        "\n"
      ],
      "metadata": {
        "id": "EPUMu96_Xmid"
      },
      "execution_count": null,
      "outputs": []
    },
    {
      "cell_type": "code",
      "source": [
        "# 13. Control de asistencia a eventos\n",
        "def control_asistencia():\n",
        "    n = int(input(\"Ingrese la cantidad de personas registradas: \"))\n",
        "    registrados = [input(\"Nombre de la persona registrada: \") for _ in range(n)]\n",
        "    m = int(input(\"Ingrese la cantidad de personas que asistieron: \"))\n",
        "    asistieron = [input(\"Nombre de la persona asistente: \") for _ in range(m)]\n",
        "    no_asistieron = list(set(registrados) - set(asistieron))\n",
        "    return no_asistieron\n",
        "\n",
        "print(\"Personas que no asistieron:\", control_asistencia())"
      ],
      "metadata": {
        "id": "Ok-w-WM3XtzR",
        "colab": {
          "base_uri": "https://localhost:8080/"
        },
        "outputId": "b8575bd9-2340-45cf-d110-ffdefb1271a6"
      },
      "execution_count": 52,
      "outputs": [
        {
          "output_type": "stream",
          "name": "stdout",
          "text": [
            "Ingrese la cantidad de personas registradas: 1\n",
            "Nombre de la persona registrada: a\n",
            "Ingrese la cantidad de personas que asistieron: 1\n",
            "Nombre de la persona asistente: a\n",
            "Personas que no asistieron: []\n"
          ]
        }
      ]
    },
    {
      "cell_type": "code",
      "source": [
        "# 14. Recomendación de ejercicio diario\n",
        "def recomendacion_ejercicio():\n",
        "    minutos_semanales = [int(input(f\"Minutos de ejercicio del día {i+1}: \")) for i in range(7)]\n",
        "    promedio = np.mean(minutos_semanales)\n",
        "    if promedio > 60:\n",
        "        return \"Excelente, estás en forma\"\n",
        "    elif 30 <= promedio <= 60:\n",
        "        return \"Buen trabajo, pero puedes mejorar\"\n",
        "    else:\n",
        "        return \"Debes hacer más ejercicio\"\n",
        "print(\"Recomendación de ejercicio:\", recomendacion_ejercicio())"
      ],
      "metadata": {
        "id": "x87Qt-luXzqB"
      },
      "execution_count": null,
      "outputs": []
    }
  ]
}