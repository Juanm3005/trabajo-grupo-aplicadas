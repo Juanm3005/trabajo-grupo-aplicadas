{
  "nbformat": 4,
  "nbformat_minor": 0,
  "metadata": {
    "colab": {
      "provenance": [],
      "name": "taller 2",
      "authorship_tag": "ABX9TyMuRSHXlysCFGQWYXZ2FsQI",
      "include_colab_link": true
    },
    "kernelspec": {
      "name": "python3",
      "display_name": "Python 3"
    },
    "language_info": {
      "name": "python"
    }
  },
  "cells": [
    {
      "cell_type": "markdown",
      "metadata": {
        "id": "view-in-github",
        "colab_type": "text"
      },
      "source": [
        "<a href=\"https://colab.research.google.com/github/Juanm3005/trabajo-grupo-aplicadas/blob/main/taller_2.ipynb\" target=\"_parent\"><img src=\"https://colab.research.google.com/assets/colab-badge.svg\" alt=\"Open In Colab\"/></a>"
      ]
    },
    {
      "cell_type": "code",
      "execution_count": null,
      "metadata": {
        "id": "deYxUalzGZDc"
      },
      "outputs": [],
      "source": [
        "#8 Cálculo de calorías consumidas: Crea una función que reciba una lista de alimentos consumidos y una lista de calorías correspondientes a cada alimento. La función debe calcular el total de calorías consumidas y devolver un mensaje si se superan las 2000 calorías diarias recomendadas.\n",
        "cantidad= input(\"ingrese la cantidad de alimentos que ingirio \")\n",
        "alimentos= 0\n",
        "calorias= 0\n",
        "\n",
        "alimentos(calorias, alimentos, cantidad)\n",
        "\n",
        "def alimentos(calorias, alimentos, can):\n",
        "  for i in range(can):\n",
        "    alimentos[i] = input(\"ingrese el nombre del alimento\")\n",
        "    calorias[i] = input(\"ingrese la cantidad de calorias del alimento\")\n",
        "    calorias_total=calorias_total+calorias[i]\n",
        "    if calorias_total > 2000:\n",
        "      print(f\"usted ingirio {calorias_total} calorias\")\n",
        "      print(\"se supero las calorias recomendadas diarias\")\n",
        "    else:\n",
        "      print(f\"usted ingirio {calorias_total} calorias\")\n"
      ]
    },
    {
      "cell_type": "code",
      "source": [],
      "metadata": {
        "id": "z5O4Jce-MJ6_"
      },
      "execution_count": null,
      "outputs": []
    }
  ]
}