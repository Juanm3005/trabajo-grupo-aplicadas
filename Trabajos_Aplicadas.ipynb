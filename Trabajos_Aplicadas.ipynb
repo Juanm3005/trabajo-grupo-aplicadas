{
  "nbformat": 4,
  "nbformat_minor": 0,
  "metadata": {
    "colab": {
      "provenance": [],
      "authorship_tag": "ABX9TyPW293YAqUkUj5gez3f1XPo",
      "include_colab_link": true
    },
    "kernelspec": {
      "name": "python3",
      "display_name": "Python 3"
    },
    "language_info": {
      "name": "python"
    }
  },
  "cells": [
    {
      "cell_type": "markdown",
      "metadata": {
        "id": "view-in-github",
        "colab_type": "text"
      },
      "source": [
        "<a href=\"https://colab.research.google.com/github/Juanm3005/trabajo-grupo-aplicadas/blob/main/Trabajos_Aplicadas.ipynb\" target=\"_parent\"><img src=\"https://colab.research.google.com/assets/colab-badge.svg\" alt=\"Open In Colab\"/></a>"
      ]
    },
    {
      "cell_type": "markdown",
      "source": [
        "#Integrantes\n",
        "### Andres Martinez\n",
        "### Juan Camilo Pelaez\n",
        "### Daniel Bautista\n",
        "### Veronica Flor"
      ],
      "metadata": {
        "id": "Z9SXavM-Sn_v"
      }
    },
    {
      "cell_type": "code",
      "execution_count": null,
      "metadata": {
        "id": "6UyD7HxXSVKJ"
      },
      "outputs": [],
      "source": [
        "#ejercicio 4: Crea un programa que pida al usuario Nombre, Peso y Talla y este calcule el IMC\n",
        "\n",
        "print(\"Bienvenido al calculador de IMC\")\n",
        "name = input(\"digite su nombre: \")\n",
        "peso = float(input(\"digite su peso en kilogramos: \"))\n",
        "altura= float(input(\"digite su altura en metros: \"))\n",
        "\n",
        "IMC = peso/(altura**2)\n",
        "\n",
        "print(f\"{name} su imc es de: {IMC}\")"
      ]
    },
    {
      "cell_type": "code",
      "source": [
        "#jercicio 5: Escriba un programa que pida dos números luego se imprima la suma, resta, producto y cociente\n",
        "\n",
        "print(\"Bienvenido a la calculadora\")\n",
        "num1 = float(input(\"ingrese el primer numero: \"))\n",
        "num2 = float(input(\"ingrese el segundo numero: \"))\n",
        "\n",
        "print(f\"\"\"la suma de los numeros es: {num1+ num2}\n",
        "la multiplicacion de los numeros es: {num1*num2}\n",
        "la resta de {num1} menos {num2} es: {num1-num2}\n",
        "la resta de {num2} menos {num1} es: {num2-num1}\n",
        "la division de {num1} y {num2} es: {num1/num2}\n",
        "la division de {num2} y {num1} es: {num2/num1}\"\"\")"
      ],
      "metadata": {
        "id": "EiDmO8SGScey"
      },
      "execution_count": null,
      "outputs": []
    },
    {
      "cell_type": "code",
      "source": [
        "# Precios del barril de petróleo en los últimos 7 días\n",
        "precios_petroleo = [85.50, 86.00, 85.75, 86.20, 86.50, 86.80, 87.00]\n",
        "\n",
        "# Precio de un litro de Coca-Cola en pesos\n",
        "precio_coca_litro_cop = 5000\n",
        "\n",
        "# Conversión de litros a barriles\n",
        "litros_por_barril = 159\n",
        "\n",
        "# Tasa de cambio COP a USD\n",
        "tasa_cambio = 4144\n",
        "\n",
        "# Cálculo del precio promedio del barril de petróleo\n",
        "precio_promedio_petroleo = sum(precios_petroleo) / len(precios_petroleo)\n",
        "\n",
        "# Cálculo del precio de un barril de Coca-Cola en COP\n",
        "precio_barril_coca_cop = precio_coca_litro_cop * litros_por_barril\n",
        "\n",
        "# Conversión del precio del barril de Coca-Cola a USD\n",
        "precio_barril_coca_usd = precio_barril_coca_cop / tasa_cambio\n",
        "\n",
        "# Relación proporcional\n",
        "relacion = precio_barril_coca_usd / precio_promedio_petroleo\n",
        "\n",
        "print(f\"Precio promedio del barril de petróleo: ${precio_promedio_petroleo:.2f} USD\")\n",
        "print(f\"Precio de un barril de Coca-Cola: ${precio_barril_coca_usd:.2f} USD\")\n",
        "print(f\"Un barril de Coca-Cola es aproximadamente {relacion:.2f} veces más costoso que un barril de petróleo.\")"
      ],
      "metadata": {
        "id": "Fk56DLRnSe8a"
      },
      "execution_count": null,
      "outputs": []
    }
  ]
}