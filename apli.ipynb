{
  "nbformat": 4,
  "nbformat_minor": 0,
  "metadata": {
    "colab": {
      "provenance": [],
      "authorship_tag": "ABX9TyN3BvJYoe3wd44e5J7aVhCD",
      "include_colab_link": true
    },
    "kernelspec": {
      "name": "python3",
      "display_name": "Python 3"
    },
    "language_info": {
      "name": "python"
    }
  },
  "cells": [
    {
      "cell_type": "markdown",
      "metadata": {
        "id": "view-in-github",
        "colab_type": "text"
      },
      "source": [
        "<a href=\"https://colab.research.google.com/github/Juanm3005/trabajo-grupo-aplicadas/blob/main/apli.ipynb\" target=\"_parent\"><img src=\"https://colab.research.google.com/assets/colab-badge.svg\" alt=\"Open In Colab\"/></a>"
      ]
    },
    {
      "cell_type": "markdown",
      "source": [
        "#TALLER 1"
      ],
      "metadata": {
        "id": "om22n_KMKnk1"
      }
    },
    {
      "cell_type": "markdown",
      "source": [
        "##1."
      ],
      "metadata": {
        "id": "dJqgJeo_Tejr"
      }
    },
    {
      "cell_type": "markdown",
      "source": [
        "\n",
        "Área lateral de de un cilindro:\n",
        "\n",
        "$A=2\\pi r g$\n",
        "\n",
        "$r=\\frac{A}{2\\pi g}$\n",
        "\n",
        "Volumen del cono:\n",
        "\n",
        "$V=\\frac{A_B\\cdot h}{3}$\n",
        "\n",
        "$3\\cdot V= A_B\\cdot h$\n",
        "\n",
        "$\\frac{3 \\cdot V}{A_B} = h$\n",
        "\n",
        "Volumen de la esfera:\n",
        "\n",
        "$V=\\frac{4}{3} \\cdot \\pi \\cdot r^3$\n",
        "\n",
        "$\\frac{V\\cdot 3}{4\\pi} = r^3$\n",
        "\n",
        "$\\sqrt[3]{\\frac{V\\cdot 3}{4\\pi}} = r$\n",
        "\n",
        "Área del trapecio:\n",
        "\n",
        "$A=\\frac{B+b}{2} \\cdot h$\n",
        "\n",
        "$\\frac{A\\cdot 2}{A+b} = h$\n",
        "\n",
        "Intensidad eléctrica:\n",
        "\n",
        "$I=\\frac{q}{t}$\n",
        "\n",
        "$t = \\frac{q}{I}$\n",
        "\n",
        "ley de Ohm:\n",
        "\n",
        " $I= \\frac{V}{R}$\n",
        "\n",
        " $R = \\frac{V}{I}$\n",
        "\n",
        " Energia eléctrica:\n",
        "\n",
        " $E = \\frac{V^2}{R}\\cdot t$\n",
        "\n",
        " $t = \\frac{E \\cdot R}{V^2}$\n",
        "\n",
        " Resistencias en paralelo:\n",
        "\n",
        " $\\frac{1}{R}=\\frac{1}{R_1}+\\frac{1}{R_2}$\n",
        "\n",
        " $R= \\frac{R_1 R_2} {R_1 + R_2}$\n",
        "\n",
        "Ecuación gases perfectos\n",
        "\n",
        " $\\frac{P_0 V_0}{T_0}=\\frac{P_f V_f}{T_f}$\n",
        "\n",
        " $P_f=\\frac{P_0 V_0 T_f}{T_0 V_f}$\n",
        "\n",
        " Intensidad eléctrica\n",
        "\n",
        " $I=\\frac{V_A - V_B}{R}$\n",
        "\n",
        " $V_b=V-I\\cdot R$\n",
        "\n"
      ],
      "metadata": {
        "id": "HhKXRotfLJ74"
      }
    },
    {
      "cell_type": "markdown",
      "source": [
        "###2."
      ],
      "metadata": {
        "id": "ITqJYK0fRBf3"
      }
    },
    {
      "cell_type": "code",
      "source": [
        "a = (3*((- 5)+10+(- 5))-2*(-2)+(- 4)+10)**2\n",
        "print(a)"
      ],
      "metadata": {
        "colab": {
          "base_uri": "https://localhost:8080/"
        },
        "id": "zfsaB9GZO5Fw",
        "outputId": "a9f20c0e-b1df-483e-dbd9-c2606625111d"
      },
      "execution_count": 5,
      "outputs": [
        {
          "output_type": "stream",
          "name": "stdout",
          "text": [
            "100\n"
          ]
        }
      ]
    },
    {
      "cell_type": "code",
      "source": [
        "b = (45 + (3*(2+8)-8/4)+10-83)\n",
        "print(b)"
      ],
      "metadata": {
        "id": "2m72a5eaRJqA",
        "outputId": "3fe6f49f-f6e3-45d5-efd4-170b40ca1755",
        "colab": {
          "base_uri": "https://localhost:8080/"
        }
      },
      "execution_count": 6,
      "outputs": [
        {
          "output_type": "stream",
          "name": "stdout",
          "text": [
            "0.0\n"
          ]
        }
      ]
    },
    {
      "cell_type": "code",
      "source": [
        "c = ((-4+7)*2-10)*(-4+7+3)\n",
        "print(c)"
      ],
      "metadata": {
        "id": "SIz1a9bVRzz1",
        "outputId": "830e1ade-c217-4e32-bec2-61e8ab4babfb",
        "colab": {
          "base_uri": "https://localhost:8080/"
        }
      },
      "execution_count": 7,
      "outputs": [
        {
          "output_type": "stream",
          "name": "stdout",
          "text": [
            "-24\n"
          ]
        }
      ]
    },
    {
      "cell_type": "markdown",
      "source": [
        "###3."
      ],
      "metadata": {
        "id": "izunNUwNTZET"
      }
    },
    {
      "cell_type": "code",
      "source": [
        "a = 1/5 * (((1/2)**2) + (3/4)**2) + 10/25 * ((1/2)**2 + (3/4)**2) + 8/40 * ((1/2)**2 + (3/4)**2)\n",
        "print(a)"
      ],
      "metadata": {
        "id": "lTmdKSPmTDyi",
        "outputId": "19a8413e-7029-41c1-daa6-b2ac594c67a9",
        "colab": {
          "base_uri": "https://localhost:8080/"
        }
      },
      "execution_count": 10,
      "outputs": [
        {
          "output_type": "stream",
          "name": "stdout",
          "text": [
            "0.65\n"
          ]
        }
      ]
    },
    {
      "cell_type": "code",
      "source": [
        "b = 9/4*((6/8)**-1)-(5/2)*((25/20)**-1)+(40/8)*((20/16)**-1)\n",
        "print(b)"
      ],
      "metadata": {
        "id": "JOkXqsUgSDIo",
        "outputId": "ac2339fc-95ec-4fd1-f4ba-1bb2d8322724",
        "colab": {
          "base_uri": "https://localhost:8080/"
        }
      },
      "execution_count": 8,
      "outputs": [
        {
          "output_type": "stream",
          "name": "stdout",
          "text": [
            "5.0\n"
          ]
        }
      ]
    }
  ]
}