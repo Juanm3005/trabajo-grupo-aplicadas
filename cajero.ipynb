{
  "nbformat": 4,
  "nbformat_minor": 0,
  "metadata": {
    "colab": {
      "provenance": [],
      "name": "cajero",
      "authorship_tag": "ABX9TyNljlxCUkjOPea6R8c4kN5U",
      "include_colab_link": true
    },
    "kernelspec": {
      "name": "python3",
      "display_name": "Python 3"
    },
    "language_info": {
      "name": "python"
    }
  },
  "cells": [
    {
      "cell_type": "markdown",
      "metadata": {
        "id": "view-in-github",
        "colab_type": "text"
      },
      "source": [
        "<a href=\"https://colab.research.google.com/github/Juanm3005/trabajo-grupo-aplicadas/blob/main/cajero.ipynb\" target=\"_parent\"><img src=\"https://colab.research.google.com/assets/colab-badge.svg\" alt=\"Open In Colab\"/></a>"
      ]
    },
    {
      "cell_type": "code",
      "execution_count": null,
      "metadata": {
        "id": "RB0GX1NPhUQz"
      },
      "outputs": [],
      "source": [
        "cuentas = [\"juan\", \"andres\", \"maria\"]\n",
        "contras = [\"Juanm3005\", \"andres234\", \"valentina25\"]\n",
        "saldo = [700000, 400000, 300000]\n",
        "\n",
        "while True:\n",
        "    print(\"Ingrese su cuenta: \")\n",
        "    usuario = input()\n",
        "    print(\"Ingrese la contraseña: \")\n",
        "    contra = input()\n",
        "\n",
        "    continuar = False  # Inicializar continuar como False\n",
        "    for i in range(len(cuentas)):  # Cambiar a len(cuentas)\n",
        "        if usuario == cuentas[i] and contra == contras[i]:\n",
        "            continuar = True\n",
        "            break  # Salir del bucle si se encuentra la cuenta\n",
        "\n",
        "    if continuar:\n",
        "        while True:\n",
        "            opcion = int(input(\"\"\"Menu:\n",
        "    1. Transferir dinero\n",
        "    2. Consultar saldo\n",
        "    3. Depositar\n",
        "    4. Retirar\n",
        "    5. Cerrar sesion\n",
        "    \"\"\"))\n",
        "            match opcion:\n",
        "                case 1:\n",
        "                    while True:\n",
        "                        usuario2 = input(\"Ingrese el nombre de la segunda cuenta: \")\n",
        "                        if usuario2 in cuentas:\n",
        "                            saldo_transferir = int(input(\"Ingrese el saldo a transferir: \"))\n",
        "                            if saldo[cuentas.index(usuario)] >= saldo_transferir:\n",
        "                                saldo[cuentas.index(usuario)] -= saldo_transferir\n",
        "                                saldo[cuentas.index(usuario2)] += saldo_transferir\n",
        "                                print(f\"Transferencia exitosa. Nuevo saldo: {saldo[cuentas.index(usuario)]}\")\n",
        "                            else:\n",
        "                                print(\"Saldo insuficiente para la transferencia.\")\n",
        "                            break  # Salir del bucle después de la transferencia\n",
        "                        else:\n",
        "                            print(\"Error en la cuenta, verifique el nombre.\")\n",
        "\n",
        "                case 2:\n",
        "                    print(\"El saldo que hay en su cuenta es de: \")\n",
        "                    print(saldo[cuentas.index(usuario)])\n",
        "\n",
        "                case 3:\n",
        "                        deposito = int(input(\"ingrese la cantidad de dinero que desea depositar \"))\n",
        "                        saldo[cuentas.index(usuario)] += deposito\n",
        "                        print(f\"Su nuevo saldo es: {saldo[cuentas.index(usuario)]}\")\n",
        "\n",
        "                case 4:\n",
        "                    while True:\n",
        "                        retiro = int(input(\"ingrese la cantidad de dinero que desea retirar \"))\n",
        "                        if retiro <= saldo[cuentas.index(usuario)]:\n",
        "                            saldo[cuentas.index(usuario)] -= retiro\n",
        "                            print(f\"su nuevo saldo es: {saldo[cuentas.index(usuario)]}\")\n",
        "                            break\n",
        "                        else:\n",
        "                            print(\"la cantidad de retiro fue erronea no tiene suficiente dinero\")\n",
        "                    pass\n",
        "                case 5:\n",
        "                      # Preguntar si desea cerrar sesión\n",
        "                    print(\"¿Desea cerrar sesión? 1. (sí) 2. (no)\")\n",
        "                    cerrar = input(\"\")\n",
        "                    if cerrar == \"1\":  # Comparar con la cadena \"1\"\n",
        "                        break  # Salir del bucle del menú\n",
        "                    pass\n",
        "\n",
        "    else:\n",
        "        print(\"Contraseña o nombre equivocado. Intente de nuevo.\")"
      ]
    }
  ]
}