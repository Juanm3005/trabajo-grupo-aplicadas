{
  "nbformat": 4,
  "nbformat_minor": 0,
  "metadata": {
    "colab": {
      "provenance": [],
      "name": "cajero",
      "authorship_tag": "ABX9TyMzEpTR6n67waWK63yvBkGD",
      "include_colab_link": true
    },
    "kernelspec": {
      "name": "python3",
      "display_name": "Python 3"
    },
    "language_info": {
      "name": "python"
    }
  },
  "cells": [
    {
      "cell_type": "markdown",
      "metadata": {
        "id": "view-in-github",
        "colab_type": "text"
      },
      "source": [
        "<a href=\"https://colab.research.google.com/github/Juanm3005/trabajo-grupo-aplicadas/blob/main/cajero.ipynb\" target=\"_parent\"><img src=\"https://colab.research.google.com/assets/colab-badge.svg\" alt=\"Open In Colab\"/></a>"
      ]
    },
    {
      "cell_type": "code",
      "execution_count": null,
      "metadata": {
        "id": "RB0GX1NPhUQz",
        "colab": {
          "base_uri": "https://localhost:8080/"
        },
        "outputId": "d244f086-d406-4868-e93c-92d833cf1fdf"
      },
      "outputs": [
        {
          "output_type": "stream",
          "name": "stdout",
          "text": [
            "Ingrese su cuenta: \n",
            "juan\n",
            "Ingrese la contraseña: \n",
            "Juanm3005\n",
            "Menu:\n",
            "    1. Transferir dinero\n",
            "    2. Consultar saldo\n",
            "    3. Depositar\n",
            "    4. Retirar\n",
            "    5. Cerrar sesion\n",
            "    5\n",
            "¿Desea cerrar sesión? 1. (sí) 2. (no)1\n",
            "Menu:\n",
            "    1. Transferir dinero\n",
            "    2. Consultar saldo\n",
            "    3. Depositar\n",
            "    4. Retirar\n",
            "    5. Cerrar sesion\n",
            "    5\n",
            "¿Desea cerrar sesión? 1. (sí) 2. (no)si\n",
            "Ingrese su cuenta: \n"
          ]
        }
      ],
      "source": [
        "cuentas = [\"juan\", \"andres\", \"maria\"]\n",
        "contras = [\"Juanm3005\", \"andres234\", \"valentina25\"]\n",
        "saldo = [700000, 400000, 300000]\n",
        "\n",
        "while True:\n",
        "    print(\"Ingrese su cuenta: \")\n",
        "    usuario = input()\n",
        "    print(\"Ingrese la contraseña: \")\n",
        "    contra = input()\n",
        "\n",
        "    continuar = False  # Inicializar continuar como False\n",
        "    for i in range(len(cuentas)):  # Cambiar a len(cuentas)\n",
        "        if usuario == cuentas[i] and contra == contras[i]:\n",
        "            continuar = True\n",
        "            break  # Salir del bucle si se encuentra la cuenta\n",
        "\n",
        "    if continuar:\n",
        "        while True:\n",
        "            opcion = int(input(\"\"\"Menu:\n",
        "    1. Transferir dinero\n",
        "    2. Consultar saldo\n",
        "    3. Depositar\n",
        "    4. Retirar\n",
        "    5. Cerrar sesion\n",
        "    \"\"\"))\n",
        "            match opcion:\n",
        "                case 1:\n",
        "                    while True:\n",
        "                        usuario2 = input(\n",
        "                            \"Ingrese el nombre de la segunda cuenta: \")\n",
        "                        if usuario2 in cuentas:\n",
        "                            saldo_transferir = int(\n",
        "                                input(\"Ingrese el saldo a transferir: \"))\n",
        "                            if saldo[cuentas.index(usuario)] >= saldo_transferir:\n",
        "                                saldo[cuentas.index(\n",
        "                                    usuario)] -= saldo_transferir\n",
        "                                saldo[cuentas.index(\n",
        "                                    usuario2)] += saldo_transferir\n",
        "                                print(\n",
        "                                    f\"Transferencia exitosa. Nuevo saldo: {saldo[cuentas.index(usuario)]}\")\n",
        "                            else:\n",
        "                                print(\"Saldo insuficiente para la transferencia.\")\n",
        "                            break  # Salir del bucle después de la transferencia\n",
        "                        else:\n",
        "                            print(\"Error en la cuenta, verifique el nombre.\")\n",
        "\n",
        "                case 2:\n",
        "                    print(\"El saldo que hay en su cuenta es de: \")\n",
        "                    print(saldo[cuentas.index(usuario)])\n",
        "\n",
        "                case 3:\n",
        "                    deposito = int(\n",
        "                        input(\"ingrese la cantidad de dinero que desea depositar \"))\n",
        "                    saldo[cuentas.index(usuario)] += deposito\n",
        "                    print(\n",
        "                        f\"Su nuevo saldo es: {saldo[cuentas.index(usuario)]}\")\n",
        "\n",
        "                case 4:\n",
        "                    while True:\n",
        "                        retiro = int(\n",
        "                            input(\"ingrese la cantidad de dinero que desea retirar \"))\n",
        "                        if retiro <= saldo[cuentas.index(usuario)]:\n",
        "                            saldo[cuentas.index(usuario)] -= retiro\n",
        "                            print(\n",
        "                                f\"su nuevo saldo es: {saldo[cuentas.index(usuario)]}\")\n",
        "                            break\n",
        "                        else:\n",
        "                            print(\n",
        "                                \"la cantidad de retiro fue erronea no tiene suficiente dinero\")\n",
        "                case 5:\n",
        "                    # Preguntar si desea cerrar sesión\n",
        "                    cerrar = input(\"¿Desea cerrar sesión? (si), (no)\")\n",
        "                    if cerrar == \"si\":  # Comparar con la cadena \"1\"\n",
        "                        break  # Salir del bucle del menú\n",
        "\n",
        "    else:\n",
        "        print(\"Contraseña o nombre equivocado. Intente de nuevo.\")\n"
      ]
    }
  ]
}