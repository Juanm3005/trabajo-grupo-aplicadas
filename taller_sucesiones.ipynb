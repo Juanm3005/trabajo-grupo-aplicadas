{
  "nbformat": 4,
  "nbformat_minor": 0,
  "metadata": {
    "colab": {
      "provenance": [],
      "authorship_tag": "ABX9TyP/ReLBiMXh7YrN4fCDJHET",
      "include_colab_link": true
    },
    "kernelspec": {
      "name": "python3",
      "display_name": "Python 3"
    },
    "language_info": {
      "name": "python"
    }
  },
  "cells": [
    {
      "cell_type": "markdown",
      "metadata": {
        "id": "view-in-github",
        "colab_type": "text"
      },
      "source": [
        "<a href=\"https://colab.research.google.com/github/Juanm3005/trabajo-grupo-aplicadas/blob/main/taller_sucesiones.ipynb\" target=\"_parent\"><img src=\"https://colab.research.google.com/assets/colab-badge.svg\" alt=\"Open In Colab\"/></a>"
      ]
    },
    {
      "cell_type": "markdown",
      "source": [
        "a) $1, \\frac{1}{3}, \\frac{1}{9}, \\frac{1}{27}, ...$\n",
        "\n",
        "R//: $\\frac{1}{3^{n-1}}$\n",
        "\n",
        "b) $1,\\frac{1}{2}, \\frac{1}{3}, \\frac{1}{4}, ...$\n",
        "\n",
        "R//: $\\frac{1}{n}$\n",
        "\n",
        "c) $1, \\frac{3}{2}, \\frac{5}{3}, \\frac{7}{4}, ... $\n",
        "\n",
        "R//: $\\frac{2n -1}{n}$\n",
        "\n",
        "d) $1, -\\frac{1}{3}, \\frac{1}{5}, -\\frac{1}{7}, \\frac{1}{9}, ...$\n",
        "\n",
        "R//: $(-1)^n ⋅ \\frac{1}{2n+1}$"
      ],
      "metadata": {
        "id": "v3gpltH10qq_"
      }
    }
  ]
}