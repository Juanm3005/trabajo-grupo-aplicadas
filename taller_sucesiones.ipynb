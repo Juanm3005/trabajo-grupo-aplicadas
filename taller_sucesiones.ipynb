{
  "nbformat": 4,
  "nbformat_minor": 0,
  "metadata": {
    "colab": {
      "provenance": [],
      "authorship_tag": "ABX9TyO9ty56IG30q0lykrH4RLBd",
      "include_colab_link": true
    },
    "kernelspec": {
      "name": "python3",
      "display_name": "Python 3"
    },
    "language_info": {
      "name": "python"
    }
  },
  "cells": [
    {
      "cell_type": "markdown",
      "metadata": {
        "id": "view-in-github",
        "colab_type": "text"
      },
      "source": [
        "<a href=\"https://colab.research.google.com/github/Juanm3005/trabajo-grupo-aplicadas/blob/main/taller_sucesiones.ipynb\" target=\"_parent\"><img src=\"https://colab.research.google.com/assets/colab-badge.svg\" alt=\"Open In Colab\"/></a>"
      ]
    },
    {
      "cell_type": "markdown",
      "source": [
        "(1) For each of the following, find a general expression for the 𝑛th term of a sequence\n",
        "which would yield these values as the first four terms.\n",
        "\n",
        "\n",
        "a) $1, \\frac{1}{3}, \\frac{1}{9}, \\frac{1}{27}, ...$\n",
        "\n",
        "R//: $\\frac{1}{3^{n-1}}$\n",
        "\n",
        "b) $1,\\frac{1}{2}, \\frac{1}{3}, \\frac{1}{4}, ...$\n",
        "\n",
        "R//: $\\frac{1}{n}$\n",
        "\n",
        "c) $1, \\frac{3}{2}, \\frac{5}{3}, \\frac{7}{4}, ... $\n",
        "\n",
        "R//: $\\frac{2n -1}{n}$\n",
        "\n",
        "d) $1, -\\frac{1}{3}, \\frac{1}{5}, -\\frac{1}{7}, \\frac{1}{9}, ...$\n",
        "\n",
        "R//: $(-1)^n ⋅ \\frac{1}{2n+1}$"
      ],
      "metadata": {
        "id": "v3gpltH10qq_"
      }
    },
    {
      "cell_type": "markdown",
      "source": [
        "(2) For each of the following, decide whether the given sequence converges or diverges. If the sequence converges, find its limit.\n",
        "\n",
        "1.  $a_n = \\frac{1}{3^n} $\n",
        "\n",
        "     $lim_{n \\to \\infty} \\frac{1}{3^\\infty}= \\frac{1}{\\infty}= 0$\n",
        "     \n",
        "     $lim_{n \\to \\infty} \\frac{1}{3^n} = 0$\n",
        "  \n",
        "   La sucesión converge a 0.\n",
        "\n",
        "2.  $a_n =  π^n $\n",
        "\n",
        "      $a_n = π^∞$\n",
        "      $a_n = ∞\n",
        "\n",
        "  la sucesion diverge a infinito\n",
        "\n",
        "\n",
        "3. $b_n = \\frac{3n - 1}{2n + 6} $\n",
        "\n",
        "     $lim_{n \\to \\infty} \\frac{3n - 1}{2n + 6}$\n",
        "   \n",
        "     $lim_{n \\to \\infty} \\frac{3 - \\frac{1}{n}}{2 + \\frac{6}{n}} = \\frac{3}{2} $\n",
        "\n",
        "  La sucesión converge a $\\frac{3}{2}$ por medio de comparacion.\n",
        "\n",
        "4. $\\cos(πn)$\n",
        "  \n",
        "  la sucesión es oscilante por lo tanto no tiene ningun limite finito o infinito\n",
        "\n",
        "5.  $ a_n = \\frac{3n^4 - 6n^3 + 1}{5n^3 + n^2 + 2} $\n",
        "\n",
        "      $lim_{n \\to \\infty} \\frac{3n^4 - 6n^3 + 1}{5n^3 + n^2 + 2}$\n",
        "  \n",
        "   $lim_{n \\to \\infty} \\frac{3 - \\frac{6}{\\infty} + \\frac{1}{\\infty^4}}{\\frac{5}{\\infty} + \\frac{1}{\\infty^2} + \\frac{2}{\\infty^4}} = \\frac{3-0+0}{0+0+0}=\\frac{3}{0} = \\infty$\n",
        "   \n",
        "   La sucesión diverge a infinito.\n",
        "\n",
        "6. $b_n = \\frac{2n^5-3n^2+23}{7n^5+13n^4-12}$\n",
        "\n",
        "      la sucesion converje a $\\frac{2}{7}$ debido al que el mayor exponente de numerador y denominador son iguales\n",
        "\n",
        "7. $c_n = \\frac{45 - 16n^2}{13 + 5n + 6n^3} $\n",
        "\n",
        "   $lim_{n \\to \\infty} \\frac{45 - 16n^2}{13 + 5n + 6n^3}$\n",
        "   \n",
        "   La sucesión converge a 0 debido a que el exponente del denominador es mayor que el del numerador.\n",
        "\n",
        "\n",
        "8. $b_n = \\frac{3n+1}{\\sqrt{4n^2+1}}$\n",
        "\n",
        "      $lim_{n \\to \\infty} = \\frac{3n+1}{\\sqrt{4n^2+1}}$\n",
        "\n",
        "      $ \\frac{3 \\infty+1}{\\sqrt{4 \\infty^2+1}} = \\frac{ \\infty}{ \\infty} = indefinido$\n",
        "\n",
        "      $ \\lim_{n \\to \\infty} \\frac{3n + 1}{\\sqrt{4n^2 + 1}} $\n",
        "\n",
        "      $ \\frac{3n + 1}{n} = \\frac{3n}{n} + \\frac{1}{n} = 3 + \\frac{1}{n} $\n",
        "\n",
        "      $ \\sqrt{4n^2 + 1}$\n",
        "\n",
        "      $ \\frac{\\sqrt{4n^2 + 1}}{n} = \\sqrt{4 + \\frac{1}{n^2}} $\n",
        "\n",
        "      $ \\lim_{n \\to \\infty} \\frac{3 + \\frac{1}{n}}{\\sqrt{4 + \\frac{1}{n^2}}} $\n",
        "\n",
        "      $ \\lim_{n \\to \\infty} \\frac{3 + 0}{\\sqrt{4 + 0}} = \\frac{3}{\\sqrt{4}} = \\frac{3}{2} $\n",
        "\n",
        "      la sucesion converge a $ \\frac{3}{2} $\n",
        "\n",
        "     \n",
        "9. $a_n = (-2)^{2n+1} $\n",
        "\n",
        "      $a_n = (-2)^{2n+1} = -2 \\cdot 4^n$\n",
        "  \n",
        "      $lim_{n \\to \\infty} -2 \\cdot 4^n$\n",
        "      \n",
        "      $lim_{n \\to \\infty} -2 \\cdot 4^\\infty= -2 · \\infty = -\\infty$\n",
        "  \n",
        "   La sucesión diverge a $-\\infty$.\n",
        "\n",
        "10. $a_n= \\frac{10-16n^3}{1+n^2}$\n",
        "\n",
        "La sucesion diverge a $-∞$\n",
        "11. $a_n = \\sqrt{\\frac{3n^2 + n - 6}{5n^2 + 16}} $\n",
        "  \n",
        "   La sucesión converge a $\\sqrt{\\frac{3}{5}}$ porque ambos tienen exponentes del mismo valor tanto en numerador como en denominador.\n",
        "\n",
        "12. $b_n= \\frac{(-1)^n}{5^n}$\n",
        "\n",
        "  la sucesion converge a 0 oscilando entre 1 y -1 cada vez acercandose mas a 0 segun aumenta el denominador"
      ],
      "metadata": {
        "id": "Fs99zX-Oa4zE"
      }
    },
    {
      "cell_type": "code",
      "source": [
        "import matplotlib.pyplot as plt\n",
        "import numpy as np\n"
      ],
      "metadata": {
        "id": "DRsHe8OvFxQq"
      },
      "execution_count": 1,
      "outputs": []
    },
    {
      "cell_type": "code",
      "source": [
        "def a_n(n):\n",
        "    return 1 / (3 ** n)\n",
        "\n",
        "# Crear un rango de valores para n\n",
        "n_values = np.arange(1, 30)\n",
        "\n",
        "# Calcular los valores de a_n para cada n\n",
        "a_values = [a_n(n) for n in n_values]\n",
        "\n",
        "# Graficar la sucesión\n",
        "plt.plot(n_values, a_values, marker='o', linestyle='-', color='b')\n",
        "plt.title('Gráfica de la sucesión $a_n = \\\\frac{1}{3^n}$')\n",
        "plt.xlabel('n')\n",
        "plt.ylabel('$a_n$')\n",
        "plt.grid(True)\n",
        "plt.show()"
      ],
      "metadata": {
        "colab": {
          "base_uri": "https://localhost:8080/",
          "height": 477
        },
        "id": "erhlmGhUGKxf",
        "outputId": "3ec74e04-9f7e-4013-a918-93fb393a19d1"
      },
      "execution_count": 9,
      "outputs": [
        {
          "output_type": "display_data",
          "data": {
            "text/plain": [
              "<Figure size 640x480 with 1 Axes>"
            ],
            "image/png": "[encoded data removed]"
          },
          "metadata": {}
        }
      ]
    }
  ]
}